{
  "nbformat": 4,
  "nbformat_minor": 0,
  "metadata": {
    "colab": {
      "name": "Kohonen's SONN_Algorithm.ipynb",
      "provenance": [],
      "collapsed_sections": []
    },
    "kernelspec": {
      "name": "python3",
      "display_name": "Python 3"
    },
    "language_info": {
      "name": "python"
    }
  },
  "cells": [
    {
      "cell_type": "code",
      "execution_count": 7,
      "metadata": {
        "colab": {
          "base_uri": "https://localhost:8080/"
        },
        "id": "xGTT1bzt6pH1",
        "outputId": "9bf1c21a-999d-4a41-95b9-0af2247f7bff"
      },
      "outputs": [
        {
          "output_type": "stream",
          "name": "stdout",
          "text": [
            "Enter number of input node: 5\n",
            "Enter number of output cluster: 4\n",
            "Enter the learning rate: 0.04\n",
            "\n",
            "The training input data: \n",
            " [[1 1 1 1 0]\n",
            " [1 0 1 1 0]\n",
            " [0 1 0 0 0]\n",
            " [0 0 1 1 1]\n",
            " [1 1 0 0 1]]\n",
            "Total number of features per input node:  5\n",
            "\n",
            "The initial weight: \n",
            " [[0.15 0.22 0.53 0.2 ]\n",
            " [0.71 0.27 0.43 0.64]\n",
            " [0.18 0.63 0.45 0.15]\n",
            " [0.79 0.01 0.54 0.63]\n",
            " [0.1  0.35 0.65 0.86]]\n",
            "\n",
            "Enter the number of epochs: 100\n",
            "\n",
            "The final weight: \n",
            " [[0.52 0.22 0.53 0.2 ]\n",
            " [0.61 0.27 0.43 0.64]\n",
            " [0.5  0.63 0.45 0.15]\n",
            " [0.5  0.01 0.54 0.63]\n",
            " [0.52 0.35 0.65 0.86]]\n",
            "\n",
            "The input node with classified cluster number: \n",
            " [[1. 1. 1. 1. 0. 0.]\n",
            " [1. 0. 1. 1. 0. 2.]\n",
            " [0. 1. 0. 0. 0. 1.]\n",
            " [0. 0. 1. 1. 1. 2.]\n",
            " [1. 1. 0. 0. 1. 0.]]\n"
          ]
        }
      ],
      "source": [
        "import numpy as np, numpy.random\n",
        "from scipy.spatial import distance\n",
        "inf = 99999999\n",
        "\n",
        "n = int(input(\"Enter number of input node: \"))\n",
        "d = n\n",
        "c = int(input(\"Enter number of output cluster: \"))\n",
        "alpha = float(input(\"Enter the learning rate: \"))\n",
        "neighbour = 1;\n",
        "\n",
        "X = np.random.randint(0,2,(n,d))\n",
        "\n",
        "addZeros = np.zeros((n, 1))\n",
        "\n",
        "print(\"\\nThe training input data: \\n\", X)\n",
        "print(\"Total number of features per input node: \",d)\n",
        "\n",
        "X = np.append(X, addZeros, axis=1)\n",
        "\n",
        "weight = np.random.rand(n,c)\n",
        "print(\"\\nThe initial weight: \\n\", np.round(weight,2))\n",
        "iter = int(input(\"\\nEnter the number of epochs: \"))\n",
        "\n",
        "for it in range(iter):\n",
        "    for i in range(n):\n",
        "        jMin = 0\n",
        "        distMin = inf\n",
        "        for j in range(c):\n",
        "            dist = np.square(distance.euclidean(weight[:,j], X[i,0:d]))\n",
        "            if neighbour>=dist:\n",
        "                jMin = j\n",
        "                weight[:, jMin] = weight[:, jMin] + alpha*(X[i,0:d] - weight[:, jMin])\n",
        "                neighbour = neighbour - alpha*neighbour\n",
        "            elif distMin>dist:\n",
        "                distMin = dist\n",
        "                weight[:, jMin] = weight[:, jMin] + alpha*(X[i,0:d] - weight[:, jMin])\n",
        "                neighbour = neighbour - alpha*neighbour\n",
        "                \n",
        "                \n",
        "\n",
        "print(\"\\nThe final weight: \\n\",np.round(weight,2))\n",
        "\n",
        "for p in range(n):\n",
        "    jMin = 0\n",
        "    distMin = inf\n",
        "    for q in range(c):\n",
        "        dist = np.square(distance.euclidean(weight[:,q], X[p,0:d]))\n",
        "        if distMin>dist:\n",
        "            distMin = dist\n",
        "            jMin = q\n",
        "    X[p,d] = jMin\n",
        "    \n",
        "print(\"\\nThe input node with classified cluster number: \\n\", X)\n"
      ]
    }
  ]
}