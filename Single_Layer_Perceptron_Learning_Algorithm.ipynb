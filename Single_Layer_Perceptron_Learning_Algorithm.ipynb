{
  "nbformat": 4,
  "nbformat_minor": 0,
  "metadata": {
    "colab": {
      "name": "Single Layer Perceptron Learning Algorithm.ipynb",
      "provenance": [],
      "collapsed_sections": [],
      "authorship_tag": "ABX9TyNOnqNXI/MimUuku2Iehj2T",
      "include_colab_link": true
    },
    "kernelspec": {
      "name": "python3",
      "display_name": "Python 3"
    },
    "language_info": {
      "name": "python"
    }
  },
  "cells": [
    {
      "cell_type": "markdown",
      "metadata": {
        "id": "view-in-github",
        "colab_type": "text"
      },
      "source": [
        "<a href=\"https://colab.research.google.com/github/SabirKhanAkash/RUET-Lab-Works/blob/master/Single_Layer_Perceptron_Learning_Algorithm.ipynb\" target=\"_parent\"><img src=\"https://colab.research.google.com/assets/colab-badge.svg\" alt=\"Open In Colab\"/></a>"
      ]
    },
    {
      "cell_type": "code",
      "execution_count": 86,
      "metadata": {
        "colab": {
          "base_uri": "https://localhost:8080/"
        },
        "id": "TcEAxrPTGk8-",
        "outputId": "8c62adb3-342e-40ec-a58e-54115ed5bc44"
      },
      "outputs": [
        {
          "output_type": "stream",
          "name": "stdout",
          "text": [
            "Enter the weights: 0.4\n",
            "Enter the weights: 0.5\n",
            "Enter the weights: 0.6\n",
            "Enter the Threshold (θ): 0.5\n",
            "Enter the Bias (η): 0.2\n",
            "\n",
            "New Adapted Weights (w): \n",
            "w 0  =  0.20\n",
            "w 1  =  0.10\n",
            "w 2  =  0.60\n",
            "\n",
            "After Single Layer Perceptron Learning outputs with newly adapted weights are (y): \n",
            "(w₀ . x₀) + (w₁ . x₁) + (w₂ . x₂) = ( 0.20 × 0 ) + ( 0.10 × 0 )  + ( 0.60 × 0 ) =  y =  0.00  ≈  0  (as θ =  0.5 )\n",
            "(w₀ . x₀) + (w₁ . x₁) + (w₂ . x₂) = ( 0.20 × 1 ) + ( 0.10 × 0 )  + ( 0.60 × 0 ) =  y =  0.20  ≈  0  (as θ =  0.5 )\n",
            "(w₀ . x₀) + (w₁ . x₁) + (w₂ . x₂) = ( 0.20 × 0 ) + ( 0.10 × 1 )  + ( 0.60 × 0 ) =  y =  0.10  ≈  0  (as θ =  0.5 )\n",
            "(w₀ . x₀) + (w₁ . x₁) + (w₂ . x₂) = ( 0.20 × 1 ) + ( 0.10 × 1 )  + ( 0.60 × 0 ) =  y =  0.30  ≈  0  (as θ =  0.5 )\n",
            "(w₀ . x₀) + (w₁ . x₁) + (w₂ . x₂) = ( 0.20 × 0 ) + ( 0.10 × 0 )  + ( 0.60 × 1 ) =  y =  0.60  ≈  1  (as θ =  0.5 )\n",
            "(w₀ . x₀) + (w₁ . x₁) + (w₂ . x₂) = ( 0.20 × 1 ) + ( 0.10 × 0 )  + ( 0.60 × 1 ) =  y =  0.80  ≈  1  (as θ =  0.5 )\n",
            "(w₀ . x₀) + (w₁ . x₁) + (w₂ . x₂) = ( 0.20 × 0 ) + ( 0.10 × 1 )  + ( 0.60 × 1 ) =  y =  0.70  ≈  1  (as θ =  0.5 )\n",
            "(w₀ . x₀) + (w₁ . x₁) + (w₂ . x₂) = ( 0.20 × 1 ) + ( 0.10 × 1 )  + ( 0.60 × 1 ) =  y =  0.90  ≈  1  (as θ =  0.5 )\n"
          ]
        }
      ],
      "source": [
        "w = []\n",
        "x0 = [0, 1, 0, 1, 0, 1, 0, 1]\n",
        "x1 = [0, 0, 1, 1, 0, 0, 1, 1]\n",
        "x2 = [0, 0, 0, 0, 1, 1, 1, 1]\n",
        "y = []\n",
        "\n",
        "for i in range(3):\n",
        "    inp = float(input(\"Enter the weights: \"))\n",
        "    w.append(inp)\n",
        "    i = i + 1\n",
        "\n",
        "theta = float(input(\"Enter the Threshold (θ): \"))\n",
        "bias = float(input(\"Enter the Bias (η): \"))\n",
        "\n",
        "for i in range(8):\n",
        "    \n",
        "    Fout = float(w[0]*x0[i] + w[1]*x1[i] + w[2]*x2[i])\n",
        "    # print(\"Before :w[0] = \",w[0],\"x0 = \",x0[i],\"w[1] = \",w[1],\"x1 = \",x1[i],\" w[2] = \",w[2],\"x2 = \",x2[i])\n",
        "    \n",
        "    y.append(Fout)\n",
        "    # print(\"y[\",i,\"] = \",Fout)\n",
        "    if(y[i] < theta):\n",
        "        y[i] = 0\n",
        "    else:\n",
        "        y[i] = 1\n",
        "    if(y[i] == 0 and (i == 4 or i == 5 or i == 6 or i == 7)):\n",
        "        w[0] = float(w[0]) + float(bias * x0[i])\n",
        "        w[1] = float(w[1]) + float(bias * x1[i])\n",
        "        w[2] = float(w[2]) + float(bias * x2[i])\n",
        "    elif(y[i] == 1 and (i == 0 or i == 1 or i == 2 or i == 3)):\n",
        "        w[0] = float(w[0]) - float(bias * x0[i])\n",
        "        w[1] = float(w[1]) - float(bias * x1[i])\n",
        "        w[2] = float(w[2]) - float(bias * x2[i])\n",
        "\n",
        "    # print(\"After :w[0] = \",w[0],\" w[1] = \",w[1],\" w[2] = \",w[2],\"  y[\",i,\"] = \",y[i])\n",
        "\n",
        "    i = i + 1\n",
        "\n",
        "print()\n",
        "\n",
        "print(\"New Adapted Weights (w): \")\n",
        "for i in range(3):\n",
        "    print(\"w\",i,\" = \",\"{:.2f}\".format(w[i]))\n",
        "\n",
        "print()\n",
        "\n",
        "print(\"After Single Layer Perceptron Learning outputs with newly adapted weights are (y): \")\n",
        "\n",
        "# for i in range(8):\n",
        "#     print(y[i])\n",
        "for i in range(8):\n",
        "    \n",
        "    Fout = float(w[0]*x0[i] + w[1]*x1[i] + w[2]*x2[i])\n",
        "    if(Fout<theta):\n",
        "        Fout2 = 0\n",
        "    else:\n",
        "        Fout2 = 1\n",
        "    print(\"(w₀ . x₀) + (w₁ . x₁) + (w₂ . x₂) = (\",\"{:.2f}\".format(w[0]),\"×\",x0[i],\") + (\",\"{:.2f}\".format(w[1]),\"×\",x1[i],\")  + (\",\"{:.2f}\".format(w[2]),\"×\",x2[i],\") =  y = \",\"{:.2f}\".format(Fout),\" ≈ \",Fout2,\" (as θ = \",theta,\")\")\n",
        "\n",
        "# Test Inputs\n",
        "# 0.4\n",
        "# 0.5\n",
        "# 0.6\n",
        "# 0.5\n",
        "# 0.2"
      ]
    },
    {
      "cell_type": "code",
      "source": [
        ""
      ],
      "metadata": {
        "id": "rq2sDeoeKJ9c"
      },
      "execution_count": null,
      "outputs": []
    }
  ]
}