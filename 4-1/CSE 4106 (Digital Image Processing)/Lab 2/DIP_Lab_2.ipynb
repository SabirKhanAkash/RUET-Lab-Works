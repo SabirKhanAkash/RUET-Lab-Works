{
  "nbformat": 4,
  "nbformat_minor": 0,
  "metadata": {
    "colab": {
      "name": "DIP_Lab_2.ipynb",
      "provenance": [],
      "collapsed_sections": []
    },
    "kernelspec": {
      "name": "python3",
      "display_name": "Python 3"
    },
    "language_info": {
      "name": "python"
    }
  },
  "cells": [
    {
      "cell_type": "code",
      "metadata": {
        "id": "Rl41MkUJNBiJ"
      },
      "source": [
        "#Calculating Bit-rate\n",
        "\n",
        "def bitrate(width,height,bit):\n",
        "    return (bit*8)/(height*width)\n"
      ],
      "execution_count": null,
      "outputs": []
    },
    {
      "cell_type": "code",
      "metadata": {
        "id": "W4X_KHEHbIWh"
      },
      "source": [
        "#Calculating Entropy\n",
        "\n",
        "def entropy(im):\n",
        "    p = np.array([(im==v).sum() for v in range(256)])\n",
        "    p = p/p.sum()\n",
        "    \n",
        "    e = -(p[p>0]*np.log2(p[p>0])).sum()\n",
        "    return e"
      ],
      "execution_count": null,
      "outputs": []
    },
    {
      "cell_type": "code",
      "metadata": {
        "id": "RsBH0CQiqcAN"
      },
      "source": [
        "# For Original Image\n",
        "\n",
        "import cv2\n",
        "import os\n",
        "import numpy as np\n",
        "import matplotlib.pyplot as plt\n",
        "from google.colab.patches import cv2_imshow\n",
        "from skimage.io import imread,imshow,imsave\n",
        "from PIL import Image \n",
        "import PIL \n",
        "\n",
        "OriginalImg = cv2.imread('/content/drive/MyDrive/DIP Lab/Lab 2/data.png',cv2.IMREAD_GRAYSCALE)\n",
        "\n",
        "[row,col] = OriginalImg.shape\n",
        "\n",
        "bit = os.stat('/content/drive/MyDrive/DIP Lab/Lab 2/data.png').st_size\n",
        "\n",
        "cv2_imshow(OriginalImg)\n",
        "\n",
        "print()\n",
        "print(\"The Entropy of Original image is: \",entropy(OriginalImg))\n",
        "print(\"The bit rate of Original image is: \",bitrate(row,col,bit),\" bits/pixel\")"
      ],
      "execution_count": null,
      "outputs": []
    },
    {
      "cell_type": "code",
      "metadata": {
        "id": "GuHaZduU0Bxq"
      },
      "source": [
        "#For A (Left) Prediction\n",
        "\n",
        "ResultantImg1 = np.zeros([row,col])\n",
        "\n",
        "for i in range(row):\n",
        "  for j in range(col):\n",
        "    if(i == 1):\n",
        "      if(j == 1):\n",
        "        predict = 0;\n",
        "      else:\n",
        "        predict = OriginalImg[i,j-1];\n",
        "    else:\n",
        "      predict = OriginalImg[i-1,j];\n",
        "    ResultantImg1[i,j] = OriginalImg[i,j] - predict;\n",
        "\n",
        "[row1,col1] = ResultantImg1.shape\n",
        "\n",
        "cv2.imwrite ('/content/drive/MyDrive/DIP Lab/Lab 2/ResultofCase1.png', ResultantImg1)\n",
        "bit1 = os.stat('/content/drive/MyDrive/DIP Lab/Lab 2/ResultofCase1.png').st_size\n",
        "\n",
        "cv2_imshow(ResultantImg1)\n",
        "\n",
        "print(\"For A Prediction -------------->\")\n",
        "print(\"The Entropy of Resultant image: \",entropy(ResultantImg1))\n",
        "print(\"The bit rate of Resultant image is: \",bitrate(row1,col1,bit1),\" bits/pixel\")"
      ],
      "execution_count": null,
      "outputs": []
    },
    {
      "cell_type": "code",
      "metadata": {
        "id": "iGLZd7F90pah"
      },
      "source": [
        "#For B (Upper) Prediction\n",
        "\n",
        "ResultantImg2 = np.zeros([row,col])\n",
        "\n",
        "for i in range(row):\n",
        "  for j in range(col):\n",
        "    if(j == 1):\n",
        "      if(i == 1):\n",
        "        predict = 0;\n",
        "      else:\n",
        "        predict = OriginalImg[i-1,j];\n",
        "    else:\n",
        "      predict = OriginalImg[i,j-1];\n",
        "    ResultantImg2[i,j] = OriginalImg[i,j] - predict;\n",
        "\n",
        "[row2,col2] = ResultantImg2.shape\n",
        "\n",
        "cv2.imwrite ('/content/drive/MyDrive/DIP Lab/Lab 2/ResultofCase2.png', ResultantImg2)\n",
        "bit2 = os.stat('/content/drive/MyDrive/DIP Lab/Lab 2/ResultofCase2.png').st_size\n",
        "\n",
        "cv2_imshow(ResultantImg2)\n",
        "\n",
        "print(\"For B Prediction -------------->\")\n",
        "print(\"The Entropy of Resultant image: \",entropy(ResultantImg2))\n",
        "print(\"The bit rate of Resultant image is: \",bitrate(row2,col2,bit2),\" bits/pixel\")"
      ],
      "execution_count": null,
      "outputs": []
    },
    {
      "cell_type": "code",
      "metadata": {
        "id": "epgwhv1T0r83"
      },
      "source": [
        "#For C (Upper Left) Prediction\n",
        "\n",
        "ResultantImg3 = np.zeros([row,col])\n",
        "\n",
        "for i in range(1, row):\n",
        "  for j in range(1, col):\n",
        "    if(i == 1 or j == 1):\n",
        "      if(i != 1):\n",
        "        predict = OriginalImg[i-1,j];\n",
        "      elif(j != 1):\n",
        "        predict = OriginalImg[i,j-1]\n",
        "      else: \n",
        "        predict = 0;\n",
        "    else:\n",
        "      predict = (OriginalImg [i-1,j-1])\n",
        "    ResultantImg3[i,j] = OriginalImg[i,j] - predict;\n",
        "\n",
        "[row3,col3] = ResultantImg3.shape\n",
        "\n",
        "cv2.imwrite ('/content/drive/MyDrive/DIP Lab/Lab 2/ResultofCase3.png', ResultantImg3)\n",
        "bit3 = os.stat('/content/drive/MyDrive/DIP Lab/Lab 2/ResultofCase3.png').st_size\n",
        "\n",
        "cv2_imshow(ResultantImg1)\n",
        "\n",
        "print(\"For C Prediction -------------->\")\n",
        "print(\"The Entropy of Resultant image: \",entropy(ResultantImg3))\n",
        "print(\"The bit rate of Resultant image is: \",bitrate(row3,col3,bit3),\" bits/pixel\")"
      ],
      "execution_count": null,
      "outputs": []
    },
    {
      "cell_type": "code",
      "metadata": {
        "id": "sZoCYZUu0tbN"
      },
      "source": [
        "#For A+B-C Prediction\n",
        "\n",
        "ResultantImg4 = np.zeros([row,col])\n",
        "\n",
        "for i in range(row):\n",
        "  for j in range(col):\n",
        "    if(i == 1 or j == 1):\n",
        "      if(i != 1):\n",
        "        predict = OriginalImg[i-1,j];\n",
        "      elif(j != 1):\n",
        "        predict = OriginalImg[i,j-1]\n",
        "      else: \n",
        "        predict = 0;\n",
        "    else:\n",
        "      predict = (OriginalImg[i,j-1]+ OriginalImg[i-1,j] - OriginalImg[i-1,j-1])\n",
        "    ResultantImg4[i,j] = OriginalImg[i,j] - predict;\n",
        "\n",
        "[row4,col4] = ResultantImg4.shape\n",
        "\n",
        "cv2.imwrite ('/content/drive/MyDrive/DIP Lab/Lab 2/ResultofCase4.png', ResultantImg4)\n",
        "bit4 = os.stat('/content/drive/MyDrive/DIP Lab/Lab 2/ResultofCase4.png').st_size\n",
        "\n",
        "cv2_imshow(ResultantImg4)\n",
        "\n",
        "print(\"For A+B-C Prediction -------------->\")\n",
        "print(\"The Entropy of Resultant image: \",entropy(ResultantImg4))\n",
        "print(\"The bit rate of Resultant image is: \",bitrate(row4,col4,bit4),\" bits/pixel\")"
      ],
      "execution_count": null,
      "outputs": []
    },
    {
      "cell_type": "code",
      "metadata": {
        "id": "uv9EXb8M02Fx"
      },
      "source": [
        "#For A + (B – C)/2 Prediction\n",
        "\n",
        "ResultantImg5 = np.zeros([row,col])\n",
        "\n",
        "for i in range(1,row):\n",
        "  for j in range(1,col):\n",
        "    if(i == 1 or j == 1):\n",
        "      if(i != 1):\n",
        "        predict = OriginalImg[i-1,j];\n",
        "      elif(j != 1):\n",
        "        predict = OriginalImg[i,j-1]\n",
        "      else: \n",
        "        predict = 0;\n",
        "    else:\n",
        "      predict = (OriginalImg[i,j-1]+ (OriginalImg[i-1,j] - OriginalImg[i-1,j-1])/2)\n",
        "    ResultantImg5[i,j] = OriginalImg[i,j] - predict;\n",
        "\n",
        "[row5,col5] = ResultantImg5.shape\n",
        "\n",
        "cv2.imwrite ('/content/drive/MyDrive/DIP Lab/Lab 2/ResultofCase5.png', ResultantImg5)\n",
        "bit5 = os.stat('/content/drive/MyDrive/DIP Lab/Lab 2/ResultofCase5.png').st_size\n",
        "\n",
        "cv2_imshow(ResultantImg5)\n",
        "\n",
        "print(\"For A + (B – C) / 2 Prediction -------------->\")\n",
        "print(\"The Entropy of Resultant image: \",entropy(ResultantImg5))\n",
        "print(\"The bit rate of Resultant image is: \",bitrate(row5,col5,bit5),\" bits/pixel\")"
      ],
      "execution_count": null,
      "outputs": []
    },
    {
      "cell_type": "code",
      "metadata": {
        "id": "rtW32ZCQ0_iT"
      },
      "source": [
        "#For B + (A – C)/2 Prediction\n",
        "\n",
        "ResultantImg6 = np.zeros([row,col])\n",
        "\n",
        "for i in range(1,row):\n",
        "  for j in range(1,col):\n",
        "    if(i == 1 or j == 1):\n",
        "      if(i != 1):\n",
        "        predict = OriginalImg[i-1,j];\n",
        "      elif(j != 1):\n",
        "        predict = OriginalImg[i,j-1]\n",
        "      else: \n",
        "        predict = 0;\n",
        "    else:\n",
        "      predict = (OriginalImg[i,j-1]+ (OriginalImg[i-1,j] - OriginalImg[i-1,j-1])/2)\n",
        "    ResultantImg6[i,j] = OriginalImg[i,j] - predict;\n",
        "\n",
        "[row6,col6] = ResultantImg6.shape\n",
        "\n",
        "cv2.imwrite ('/content/drive/MyDrive/DIP Lab/Lab 2/ResultofCase6.png', ResultantImg6)\n",
        "bit6 = os.stat('/content/drive/MyDrive/DIP Lab/Lab 2/ResultofCase6.png').st_size\n",
        "\n",
        "cv2_imshow(ResultantImg6)\n",
        "\n",
        "print(\"For B + (A – C) / 2 Prediction -------------->\")\n",
        "print(\"The Entropy of Resultant image: \",entropy(ResultantImg6))\n",
        "print(\"The bit rate of Resultant image is: \",bitrate(row6,col6,bit6),\" bits/pixel\")"
      ],
      "execution_count": null,
      "outputs": []
    },
    {
      "cell_type": "code",
      "metadata": {
        "id": "qRmaK9mbsELq"
      },
      "source": [
        "# For A+B/2 Prediction\n",
        "\n",
        "ResultantImg7 = np.zeros([row,col])\n",
        "\n",
        "for i in range(1, row):\n",
        "  for j in range(1, col):\n",
        "    if(i == 1 or j == 1):\n",
        "      if(i != 1):\n",
        "        predict = OriginalImg[i-1,j];\n",
        "      elif(j != 1):\n",
        "        predict = OriginalImg[i,j-1]\n",
        "      else: \n",
        "        predict = 0;\n",
        "    else:\n",
        "      predict = (OriginalImg[i-1,j]+ OriginalImg[i,j-1])/2\n",
        "    ResultantImg7[i,j] = OriginalImg[i,j] - predict;\n",
        "\n",
        "[row7,col7] = ResultantImg7.shape\n",
        "\n",
        "cv2.imwrite ('/content/drive/MyDrive/DIP Lab/Lab 2/ResultofCase7.png', ResultantImg7)\n",
        "bit7 = os.stat('/content/drive/MyDrive/DIP Lab/Lab 2/ResultofCase7.png').st_size\n",
        "\n",
        "cv2_imshow(ResultantImg7)\n",
        "\n",
        "print(\"For A+B / 2 -------------->\")\n",
        "print(\"The Entropy of Resultant image: \",entropy(ResultantImg7))\n",
        "print(\"The bit rate of Resultant image is: \",bitrate(row7,col7,bit7),\" bits/pixel\")\n"
      ],
      "execution_count": null,
      "outputs": []
    },
    {
      "cell_type": "code",
      "metadata": {
        "id": "EcEMEyP48tEH"
      },
      "source": [
        "# For LOCO-I\n",
        "\n",
        "LocoI = np.zeros([row,col])\n",
        "\n",
        "for i in range(row):\n",
        "  for j in range(col):\n",
        "    A = OriginalImg[i-1,j]\n",
        "    B = OriginalImg[i,j-1]\n",
        "    C = OriginalImg[i-1,j-1]\n",
        "    if(C >= max(A,B)):\n",
        "      LocoI[i,j] = min(A, B)\n",
        "    elif(C <= min(A,B)):\n",
        "      LocoI[i,j] = max(A,B)\n",
        "    else:\n",
        "      LocoI[i,j] = A + B - C\n",
        "\n",
        "[rowl,coll] = LocoI.shape\n",
        "\n",
        "cv2.imwrite ('/content/drive/MyDrive/DIP Lab/Lab 2/ResultofLOCO-I.png', LocoI)\n",
        "bitl = os.stat('/content/drive/MyDrive/DIP Lab/Lab 2/ResultofLOCO-I.png').st_size\n",
        "\n",
        "cv2_imshow(LocoI)\n",
        "\n",
        "print(\"For LOCO-I -------------->\")\n",
        "print(\"The Entropy of Resultant image: \",entropy(LocoI))\n",
        "print(\"The bit rate of Resultant image is: \",bitrate(rowl,coll,bitl),\" bits/pixel\")"
      ],
      "execution_count": null,
      "outputs": []
    },
    {
      "cell_type": "code",
      "metadata": {
        "id": "PQDZo9U18Ol9"
      },
      "source": [
        "# For Temporal \n",
        "\n",
        "[row , col] = OriginalImg.shape\n",
        "rowT = row + 1\n",
        "colT = col + 1\n",
        "const = 5\n",
        "padded_img = np.full((rowT, colT), const, dtype=np.uint8)\n",
        "\n",
        "xx = (rowT - row) // 2\n",
        "yy = (colT - col) // 2\n",
        "\n",
        "padded_img[yy:yy+col, xx:xx+row] = OriginalImg\n",
        "\n",
        "cv2_imshow(padded_img)\n",
        "\n",
        "tempo1 = np.zeros([rowT, colT])\n",
        "tempo2 = np.zeros([rowT, colT])\n",
        "tempo3 = np.zeros([rowT, colT])\n",
        "tempo4 = np.zeros([rowT, colT])\n",
        "tempo5 = np.zeros([rowT, colT])\n",
        "tempo6 = np.zeros([rowT, colT])\n",
        "tempo7 = np.zeros([rowT, colT])\n",
        "tempo8 = np.zeros([rowT, colT])\n",
        "\n",
        "for i in range(2, rowT):\n",
        "  for j in range(2, colT):\n",
        "    A = padded_img[i-1,j]\n",
        "    B = padded_img[i,j-1]\n",
        "    C = padded_img [i-1,j-1]\n",
        "    tempo1[i, j] = A\n",
        "    tempo2[i, j] = C\n",
        "    tempo3[i, j] = B\n",
        "    tempo4[i, j] = (A+B)/2\n",
        "    tempo5[i, j] = A + B - C \n",
        "    tempo6[i, j] = A+((B-C)/2)\n",
        "    tempo7[i, j] = B+(A-C)/2\n",
        "\n",
        "\n",
        "[rowt1,colt1] = tempo1.shape\n",
        "\n",
        "cv2.imwrite ('/content/drive/MyDrive/DIP Lab/Lab 2/ResultofTemporal1.png', tempo1)\n",
        "bitt1 = os.stat('/content/drive/MyDrive/DIP Lab/Lab 2/ResultofTemporal1.png').st_size\n",
        "\n",
        "cv2_imshow(LocoI)\n",
        "\n",
        "print(\"For Temporal 1 (A) -------------->\")\n",
        "print(\"The Entropy of Resultant image: \",entropy(tempo1))\n",
        "print(\"The bit rate of Resultant image is: \",bitrate(rowt1,bitt1),\" bits/pixel\")"
      ],
      "execution_count": null,
      "outputs": []
    },
    {
      "cell_type": "code",
      "metadata": {
        "id": "jCllhejnDwWz"
      },
      "source": [
        ""
      ],
      "execution_count": null,
      "outputs": []
    }
  ]
}